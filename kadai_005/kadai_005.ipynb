{
  "nbformat": 4,
  "nbformat_minor": 0,
  "metadata": {
    "colab": {
      "provenance": []
    },
    "kernelspec": {
      "name": "python3",
      "display_name": "Python 3"
    },
    "language_info": {
      "name": "python"
    }
  },
  "cells": [
    {
      "cell_type": "code",
      "execution_count": 12,
      "metadata": {
        "id": "n9yWnWz6YNtR",
        "colab": {
          "base_uri": "https://localhost:8080/"
        },
        "outputId": "35a9d15b-ebab-4bb6-a666-b63410dfe05e"
      },
      "outputs": [
        {
          "output_type": "stream",
          "name": "stdout",
          "text": [
            "公式：台形の面積 =（上辺(10)＋下辺(20)）× 高さ(5) ÷ 2\n",
            "面積 = 75.0cm²\n"
          ]
        }
      ],
      "source": [
        "# 台形の各辺と高さ(cm)\n",
        "top = 10    # 上辺\n",
        "bottom = 20 # 下辺\n",
        "hight = 5   #高さ\n",
        "area = (top + bottom) * hight / 2\n",
        "\n",
        "# 面積の公式と結果\n",
        "print(f\"公式：台形の面積 =（上辺({top}) ＋ 下辺({bottom})）× 高さ({hight}) ÷ 2\")\n",
        "print(\"面積 = \" + str(area) + \"cm²\")\n"
      ]
    }
  ]
}