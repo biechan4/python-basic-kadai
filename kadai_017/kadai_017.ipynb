{
  "nbformat": 4,
  "nbformat_minor": 0,
  "metadata": {
    "colab": {
      "provenance": []
    },
    "kernelspec": {
      "name": "python3",
      "display_name": "Python 3"
    },
    "language_info": {
      "name": "python"
    }
  },
  "cells": [
    {
      "cell_type": "code",
      "execution_count": 3,
      "metadata": {
        "id": "n9yWnWz6YNtR",
        "colab": {
          "base_uri": "https://localhost:8080/"
        },
        "outputId": "a8dad473-e77d-4f3a-83c7-6a26db03ddd6"
      },
      "outputs": [
        {
          "output_type": "stream",
          "name": "stdout",
          "text": [
            "狩野元信さんは大人です。\n",
            "狩野松栄さんは大人です。\n",
            "多納永徳さんは大人ではありません。\n",
            "狩野山楽さんは大人です。\n",
            "狩野山雪さんは大人です。\n",
            "狩野探幽さんは大人ではありません。\n"
          ]
        }
      ],
      "source": [
        "class Human:\n",
        "    def __init__(self, name: str, age: int):\n",
        "        self.name = name\n",
        "        self.age = age\n",
        "\n",
        "    def check_adult(self):\n",
        "        if self.age >= 20:\n",
        "            print(f\"{self.name}さんは大人です。\")\n",
        "        else:\n",
        "            print(f\"{self.name}さんは大人ではありません。\")\n",
        "\n",
        "# インスタンスを作成\n",
        "human = [\n",
        "    Human(\"狩野元信\", 50),\n",
        "    Human(\"狩野松栄\", 30),\n",
        "    Human(\"多納永徳\", 9),\n",
        "]\n",
        "\n",
        "#インスタンスに追加\n",
        "human.extend([\n",
        "    Human(\"狩野山楽\", 70),\n",
        "    Human(\"狩野山雪\", 50),\n",
        "    Human(\"狩野探幽\", 18)\n",
        "\n",
        "])\n",
        "\n",
        "\n",
        "# 全員に対して check_adult を呼び出す\n",
        "for person in human:\n",
        "    person.check_adult()\n"
      ]
    }
  ]
}